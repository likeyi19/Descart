{
 "cells": [
  {
   "cell_type": "code",
   "execution_count": 1,
   "id": "8e0169b9",
   "metadata": {
    "ExecuteTime": {
     "end_time": "2024-02-28T05:23:09.474223Z",
     "start_time": "2024-02-28T05:22:59.543453Z"
    }
   },
   "outputs": [],
   "source": [
    "from utils import *\n",
    "import episcanpy.api as epi\n",
    "import time"
   ]
  },
  {
   "cell_type": "markdown",
   "id": "b59b308f",
   "metadata": {},
   "source": [
    "# Set parameters"
   ]
  },
  {
   "cell_type": "code",
   "execution_count": 3,
   "id": "a7095637",
   "metadata": {
    "ExecuteTime": {
     "end_time": "2024-02-28T05:25:21.529699Z",
     "start_time": "2024-02-28T05:25:21.527421Z"
    }
   },
   "outputs": [],
   "source": [
    "file_path = '/home/likeyi/program/Cofea_wxq/data/preprocessed/E13_5-S1_atac.h5ad'\n",
    "save_path = '../result'\n",
    "if not os.path.exists(save_path):\n",
    "    os.makedirs(save_path)\n",
    "num_select_peak = 10000\n",
    "seed_base = 1\n",
    "tf = 'tfidf2'\n",
    "pc = 10\n",
    "k = 20\n",
    "similarity = 'cosine'\n",
    "iter_time = 4\n",
    "spmethod = 'threshold'\n",
    "neighbor = 5\n",
    "sp_dist = 'recip'\n",
    "pre_select = 'highest'\n",
    "peaks_num = 50000\n",
    "distance = 'euclidean'\n",
    "r = 0.4"
   ]
  },
  {
   "cell_type": "markdown",
   "id": "fb049a6e",
   "metadata": {},
   "source": [
    "# Read data"
   ]
  },
  {
   "cell_type": "code",
   "execution_count": 4,
   "id": "0cf23553",
   "metadata": {
    "ExecuteTime": {
     "end_time": "2024-02-28T05:25:45.290459Z",
     "start_time": "2024-02-28T05:25:43.532605Z"
    }
   },
   "outputs": [
    {
     "name": "stdout",
     "output_type": "stream",
     "text": [
      "load data:  AnnData object with n_obs × n_vars = 1777 × 271126\n",
      "    obs: 'gex_barcode', 'atac_barcode', 'is_cell', 'excluded_reason', 'gex_raw_reads', 'gex_mapped_reads', 'gex_conf_intergenic_reads', 'gex_conf_exonic_reads', 'gex_conf_intronic_reads', 'gex_conf_exonic_unique_reads', 'gex_conf_exonic_antisense_reads', 'gex_conf_exonic_dup_reads', 'gex_exonic_umis', 'gex_conf_intronic_unique_reads', 'gex_conf_intronic_antisense_reads', 'gex_conf_intronic_dup_reads', 'gex_intronic_umis', 'gex_conf_txomic_unique_reads', 'gex_umis_count', 'gex_genes_count', 'atac_raw_reads', 'atac_unmapped_reads', 'atac_lowmapq', 'atac_dup_reads', 'atac_chimeric_reads', 'atac_mitochondrial_reads', 'atac_fragments', 'atac_TSS_fragments', 'atac_peak_region_fragments', 'atac_peak_region_cutsites', 'Sample', 'TSSEnrichment', 'ReadsInTSS', 'ReadsInPromoter', 'ReadsInBlacklist', 'PromoterRatio', 'PassQC', 'NucleosomeRatio', 'nMultiFrags', 'nMonoFrags', 'nFrags', 'nDiFrags', 'Gex_RiboRatio', 'Gex_nUMI', 'Gex_nGenes', 'Gex_MitoRatio', 'BlacklistRatio', 'array_col', 'array_row', 'Harmony_ATAC_0.35', 'Harmony_RNA_0.7', 'Harmony_Combined_1.2_mergeCortex', 'ReadsInPeaks', 'FRIP', 'Annotation_for_Combined'\n",
      "    var: 'Peaks', 'E13_5-S1'\n",
      "    uns: 'peaks', 'reference_sequences'\n",
      "    obsm: 'insertion', 'spatial'\n",
      "data after pre-filtering:  AnnData object with n_obs × n_vars = 1777 × 271126\n",
      "    obs: 'gex_barcode', 'atac_barcode', 'is_cell', 'excluded_reason', 'gex_raw_reads', 'gex_mapped_reads', 'gex_conf_intergenic_reads', 'gex_conf_exonic_reads', 'gex_conf_intronic_reads', 'gex_conf_exonic_unique_reads', 'gex_conf_exonic_antisense_reads', 'gex_conf_exonic_dup_reads', 'gex_exonic_umis', 'gex_conf_intronic_unique_reads', 'gex_conf_intronic_antisense_reads', 'gex_conf_intronic_dup_reads', 'gex_intronic_umis', 'gex_conf_txomic_unique_reads', 'gex_umis_count', 'gex_genes_count', 'atac_raw_reads', 'atac_unmapped_reads', 'atac_lowmapq', 'atac_dup_reads', 'atac_chimeric_reads', 'atac_mitochondrial_reads', 'atac_fragments', 'atac_TSS_fragments', 'atac_peak_region_fragments', 'atac_peak_region_cutsites', 'Sample', 'TSSEnrichment', 'ReadsInTSS', 'ReadsInPromoter', 'ReadsInBlacklist', 'PromoterRatio', 'PassQC', 'NucleosomeRatio', 'nMultiFrags', 'nMonoFrags', 'nFrags', 'nDiFrags', 'Gex_RiboRatio', 'Gex_nUMI', 'Gex_nGenes', 'Gex_MitoRatio', 'BlacklistRatio', 'array_col', 'array_row', 'Harmony_ATAC_0.35', 'Harmony_RNA_0.7', 'Harmony_Combined_1.2_mergeCortex', 'ReadsInPeaks', 'FRIP', 'Annotation_for_Combined', 'nb_features'\n",
      "    var: 'Peaks', 'E13_5-S1', 'n_cells'\n",
      "    uns: 'peaks', 'reference_sequences'\n",
      "    obsm: 'insertion', 'spatial'\n"
     ]
    }
   ],
   "source": [
    "adata_raw = sc.read_h5ad(file_path)\n",
    "print('load data: ', adata_raw)\n",
    "\n",
    "epi.pp.filter_features(adata_raw, min_cells=1)\n",
    "epi.pp.filter_cells(adata_raw, min_features=1)\n",
    "num_all_peak = adata_raw.n_vars\n",
    "print('data after pre-filtering: ', adata_raw)"
   ]
  },
  {
   "cell_type": "markdown",
   "id": "386b74bb",
   "metadata": {},
   "source": [
    "# Run Descartes"
   ]
  },
  {
   "cell_type": "code",
   "execution_count": 5,
   "id": "8e2a568f",
   "metadata": {
    "ExecuteTime": {
     "end_time": "2024-02-28T05:27:21.590888Z",
     "start_time": "2024-02-28T05:26:12.901947Z"
    }
   },
   "outputs": [
    {
     "name": "stdout",
     "output_type": "stream",
     "text": [
      "AnnData object with n_obs × n_vars = 1777 × 271126\n",
      "    obs: 'gex_barcode', 'atac_barcode', 'is_cell', 'excluded_reason', 'gex_raw_reads', 'gex_mapped_reads', 'gex_conf_intergenic_reads', 'gex_conf_exonic_reads', 'gex_conf_intronic_reads', 'gex_conf_exonic_unique_reads', 'gex_conf_exonic_antisense_reads', 'gex_conf_exonic_dup_reads', 'gex_exonic_umis', 'gex_conf_intronic_unique_reads', 'gex_conf_intronic_antisense_reads', 'gex_conf_intronic_dup_reads', 'gex_intronic_umis', 'gex_conf_txomic_unique_reads', 'gex_umis_count', 'gex_genes_count', 'atac_raw_reads', 'atac_unmapped_reads', 'atac_lowmapq', 'atac_dup_reads', 'atac_chimeric_reads', 'atac_mitochondrial_reads', 'atac_fragments', 'atac_TSS_fragments', 'atac_peak_region_fragments', 'atac_peak_region_cutsites', 'Sample', 'TSSEnrichment', 'ReadsInTSS', 'ReadsInPromoter', 'ReadsInBlacklist', 'PromoterRatio', 'PassQC', 'NucleosomeRatio', 'nMultiFrags', 'nMonoFrags', 'nFrags', 'nDiFrags', 'Gex_RiboRatio', 'Gex_nUMI', 'Gex_nGenes', 'Gex_MitoRatio', 'BlacklistRatio', 'array_col', 'array_row', 'Harmony_ATAC_0.35', 'Harmony_RNA_0.7', 'Harmony_Combined_1.2_mergeCortex', 'ReadsInPeaks', 'FRIP', 'Annotation_for_Combined', 'nb_features'\n",
      "    var: 'Peaks', 'E13_5-S1', 'n_cells'\n",
      "    uns: 'peaks', 'reference_sequences'\n",
      "    obsm: 'insertion', 'spatial'\n",
      "(1777, 271126)\n",
      "(1777, 1777)\n",
      "(1777, 10)\n",
      "0.0\n",
      "compute scores\n",
      "scores:\n",
      "[ 1772.45956498  1772.46899563  1772.52422341 ... 26131.83199466\n",
      " 27337.80633394 29792.21951934]\n",
      "(1777, 1777)\n",
      "(1777, 10)\n",
      "0.0\n",
      "compute scores\n",
      "scores:\n",
      "[ 1772.97355106  1773.14600523  1773.40572463 ... 25966.69504371\n",
      " 27326.86671713 29820.50452416]\n",
      "(1777, 1777)\n",
      "(1777, 10)\n",
      "0.0\n",
      "compute scores\n",
      "scores:\n",
      "[ 1773.16699415  1773.20541088  1773.27065959 ... 26032.29883792\n",
      " 27293.20348994 29844.70314918]\n",
      "(1777, 1777)\n",
      "(1777, 10)\n",
      "0.0\n",
      "compute scores\n",
      "scores:\n",
      "[ 1773.12518501  1773.14596616  1773.17533477 ... 26025.19215476\n",
      " 27337.90996245 29847.04367926]\n"
     ]
    }
   ],
   "source": [
    "start_time = time.time()\n",
    "\n",
    "adata = sc.AnnData(adata_raw.X,dtype = 'float32')\n",
    "idx, sorted_index, simi_matrix, idx_all, scores, selected_peaks_data,similarity_matrix_acb, similarity_matrix_spatial = run_descartes(adata_raw, num_select_peak, seed_base=seed_base, tfidf=tf, ifPCA=True, pc=pc, k=k, similarity=similarity, iters=iter_time, spmethod=spmethod,neighbor=neighbor,sp_dist=sp_dist, pre_select=pre_select, peaks_num=peaks_num, distance=distance,r=r)\n",
    "\n",
    "end_time = time.time()"
   ]
  },
  {
   "cell_type": "markdown",
   "id": "3612cf8b",
   "metadata": {},
   "source": [
    "# Save the results"
   ]
  },
  {
   "cell_type": "code",
   "execution_count": 8,
   "id": "7ff658c2",
   "metadata": {
    "ExecuteTime": {
     "end_time": "2024-02-28T05:27:43.736793Z",
     "start_time": "2024-02-28T05:27:43.729667Z"
    }
   },
   "outputs": [],
   "source": [
    "result = pd.DataFrame({'idx':idx})\n",
    "filename = save_path + '/result_idx.csv'\n",
    "result.to_csv(filename,header=True)"
   ]
  },
  {
   "cell_type": "code",
   "execution_count": 9,
   "id": "10b4d6af",
   "metadata": {
    "ExecuteTime": {
     "end_time": "2024-02-28T05:27:44.504710Z",
     "start_time": "2024-02-28T05:27:44.501591Z"
    }
   },
   "outputs": [],
   "source": [
    "current_pid = os.getpid()\n",
    "peak_memory = get_peak_memory_usage(current_pid)\n",
    "run_time = end_time - start_time\n",
    "meta = pd.DataFrame({'Peak memory':[peak_memory], 'run time':[run_time]})\n",
    "meta.to_csv(save_path + '/result_meta.csv',index=None)"
   ]
  },
  {
   "cell_type": "code",
   "execution_count": null,
   "id": "ef9b7974",
   "metadata": {},
   "outputs": [],
   "source": []
  }
 ],
 "metadata": {
  "kernelspec": {
   "display_name": "Python 3 (ipykernel)",
   "language": "python",
   "name": "python3"
  },
  "language_info": {
   "codemirror_mode": {
    "name": "ipython",
    "version": 3
   },
   "file_extension": ".py",
   "mimetype": "text/x-python",
   "name": "python",
   "nbconvert_exporter": "python",
   "pygments_lexer": "ipython3",
   "version": "3.8.18"
  },
  "toc": {
   "base_numbering": 1,
   "nav_menu": {},
   "number_sections": true,
   "sideBar": true,
   "skip_h1_title": false,
   "title_cell": "Table of Contents",
   "title_sidebar": "Contents",
   "toc_cell": false,
   "toc_position": {},
   "toc_section_display": true,
   "toc_window_display": false
  }
 },
 "nbformat": 4,
 "nbformat_minor": 5
}
